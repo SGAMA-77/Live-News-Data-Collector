{
 "cells": [
  {
   "cell_type": "markdown",
   "id": "b6247492",
   "metadata": {},
   "source": [
    "# Real-Time News Data Collection"
   ]
  },
  {
   "cell_type": "code",
   "execution_count": 2,
   "id": "3abb0a67",
   "metadata": {},
   "outputs": [],
   "source": [
    "import pandas\n",
    "import requests\n",
    "from datetime import datetime, timedelta\n",
    "from dotenv import load_dotenv\n",
    "import os"
   ]
  },
  {
   "cell_type": "code",
   "execution_count": 3,
   "id": "d572eefa",
   "metadata": {},
   "outputs": [],
   "source": [
    "# loading thr news API key\n",
    "load_dotenv()\n",
    "API_KEY = os.getenv(\"797e377f4e8145f7ac5f6af3e3352231\")"
   ]
  },
  {
   "cell_type": "code",
   "execution_count": 4,
   "id": "6ab5a58d",
   "metadata": {},
   "outputs": [
    {
     "name": "stderr",
     "output_type": "stream",
     "text": [
      "C:\\Users\\Phophi\\AppData\\Local\\Temp\\ipykernel_5876\\118206952.py:2: DeprecationWarning: datetime.datetime.utcnow() is deprecated and scheduled for removal in a future version. Use timezone-aware objects to represent datetimes in UTC: datetime.datetime.now(datetime.UTC).\n",
      "  to_date = datetime.utcnow().date()\n"
     ]
    }
   ],
   "source": [
    "\n",
    "# selecting a period of last 2 days\n",
    "to_date = datetime.utcnow().date()\n",
    "from_date = to_date - timedelta(days=2)"
   ]
  },
  {
   "cell_type": "code",
   "execution_count": 5,
   "id": "e296b8d9",
   "metadata": {},
   "outputs": [],
   "source": [
    "QUERY = 'Cybersecurity attack'\n",
    "LANG = 'en'\n",
    "PAGE_SIZE = 100 "
   ]
  },
  {
   "cell_type": "code",
   "execution_count": 6,
   "id": "0a124313",
   "metadata": {},
   "outputs": [],
   "source": [
    "def fetch_news(query, from_date, to_date, api_key, page_size= 100):\n",
    "    url = 'https://newsapi.org/v2/everything'\n",
    "    all_articles = []\n",
    "    for page in range(1, 6): \n",
    "        params = {\n",
    "            'q': query,\n",
    "            'from': from_date,\n",
    "            'to': to_date,\n",
    "            'language': LANG,\n",
    "            'pageSize': page_size,\n",
    "            'page': page,\n",
    "            'sortBy': 'publishedAt',\n",
    "            'apikey': api_key,\n",
    "        }\n",
    "        \n",
    "        response = requests.get(url, params=params)\n",
    "        data = response.json()\n",
    "        \n",
    "        if data.get(\"status\") != \"ok\":\n",
    "            print(\"Error:\", data.get(\"message\"))\n",
    "            break\n",
    "        \n",
    "        articles = data.get(\"articles\", [])\n",
    "        if not articles:\n",
    "            break\n",
    "        all_articles.extend(articles)\n",
    "        return all_articles"
   ]
  },
  {
   "cell_type": "markdown",
   "id": "d6140c4a",
   "metadata": {},
   "source": [
    "## Storing the news articles in a CSV"
   ]
  },
  {
   "cell_type": "code",
   "execution_count": 8,
   "id": "88ad24f5",
   "metadata": {},
   "outputs": [
    {
     "name": "stdout",
     "output_type": "stream",
     "text": [
      "Error: Your API key is missing. Append this to the URL with the apiKey param, or use the x-api-key HTTP header.\n"
     ]
    },
    {
     "ename": "NameError",
     "evalue": "name 'pd' is not defined",
     "output_type": "error",
     "traceback": [
      "\u001b[31m---------------------------------------------------------------------------\u001b[39m",
      "\u001b[31mNameError\u001b[39m                                 Traceback (most recent call last)",
      "\u001b[36mCell\u001b[39m\u001b[36m \u001b[39m\u001b[32mIn[8]\u001b[39m\u001b[32m, line 5\u001b[39m\n\u001b[32m      2\u001b[39m articles = fetch_news(QUERY, from_date.isoformat(), to_date.isoformat(), API_KEY)\n\u001b[32m      4\u001b[39m \u001b[38;5;66;03m# converting to dataframe\u001b[39;00m\n\u001b[32m----> \u001b[39m\u001b[32m5\u001b[39m df = \u001b[43mpd\u001b[49m.DataFrame([{\n\u001b[32m      6\u001b[39m     \u001b[33m'\u001b[39m\u001b[33mtitle\u001b[39m\u001b[33m'\u001b[39m: article[\u001b[33m'\u001b[39m\u001b[33mtitle\u001b[39m\u001b[33m'\u001b[39m],\n\u001b[32m      7\u001b[39m     \u001b[33m'\u001b[39m\u001b[33mdescription\u001b[39m\u001b[33m'\u001b[39m: article[\u001b[33m'\u001b[39m\u001b[33mdescription\u001b[39m\u001b[33m'\u001b[39m],\n\u001b[32m      8\u001b[39m     \u001b[33m'\u001b[39m\u001b[33msource\u001b[39m\u001b[33m'\u001b[39m: article[\u001b[33m'\u001b[39m\u001b[33msource\u001b[39m\u001b[33m'\u001b[39m],\n\u001b[32m      9\u001b[39m     \u001b[33m'\u001b[39m\u001b[33mpublished_at\u001b[39m\u001b[33m'\u001b[39m: article[\u001b[33m'\u001b[39m\u001b[33mpublishedAt\u001b[39m\u001b[33m'\u001b[39m],\n\u001b[32m     10\u001b[39m     \u001b[33m'\u001b[39m\u001b[33murl\u001b[39m\u001b[33m'\u001b[39m: article[\u001b[33m'\u001b[39m\u001b[33mcontent\u001b[39m\u001b[33m'\u001b[39m]\n\u001b[32m     11\u001b[39m }\u001b[38;5;28;01mfor\u001b[39;00m article \u001b[38;5;129;01min\u001b[39;00m articles])\n\u001b[32m     13\u001b[39m df.to_csv(\u001b[33m\"\u001b[39m\u001b[33mCybersecurity_attack_news.csv\u001b[39m\u001b[33m\"\u001b[39m, index=\u001b[38;5;28;01mFalse\u001b[39;00m)\n\u001b[32m     14\u001b[39m \u001b[38;5;28mprint\u001b[39m(\u001b[33mf\u001b[39m\u001b[33m\"\u001b[39m\u001b[38;5;132;01m{\u001b[39;00m\u001b[38;5;28mlen\u001b[39m(df)\u001b[38;5;132;01m}\u001b[39;00m\u001b[33m articles saved to \u001b[39m\u001b[33m'\u001b[39m\u001b[33mCybersecurity_attack_news.csv\u001b[39m\u001b[33m'\u001b[39m\u001b[33m\"\u001b[39m)\n",
      "\u001b[31mNameError\u001b[39m: name 'pd' is not defined"
     ]
    }
   ],
   "source": [
    "# fetching articles\n",
    "articles = fetch_news(QUERY, from_date.isoformat(), to_date.isoformat(), API_KEY)\n",
    "\n",
    "# converting to dataframe\n",
    "df = pd.DataFrame([{\n",
    "    'title': article['title'],\n",
    "    'description': article['description'],\n",
    "    'source': article['source'],\n",
    "    'published_at': article['publishedAt'],\n",
    "    'url': article['content']\n",
    "}for article in articles])\n",
    "\n",
    "df.to_csv(\"Cybersecurity_attack_news.csv\", index=False)\n",
    "print(f\"{len(df)} articles saved to 'Cybersecurity_attack_news.csv'\")"
   ]
  }
 ],
 "metadata": {
  "kernelspec": {
   "display_name": "venv",
   "language": "python",
   "name": "python3"
  },
  "language_info": {
   "codemirror_mode": {
    "name": "ipython",
    "version": 3
   },
   "file_extension": ".py",
   "mimetype": "text/x-python",
   "name": "python",
   "nbconvert_exporter": "python",
   "pygments_lexer": "ipython3",
   "version": "3.12.9"
  }
 },
 "nbformat": 4,
 "nbformat_minor": 5
}
